{
 "cells": [
  {
   "cell_type": "markdown",
   "id": "09dac53f-1e3d-43f9-8b8f-19facdbc1ec0",
   "metadata": {},
   "source": [
    "# SSIM\n",
    "https://medium.com/@danielyogatama.dy/ssim-on-python-eb1a76a2799b"
   ]
  },
  {
   "cell_type": "code",
   "execution_count": 1,
   "id": "5ef477bf-425d-4ab0-ba71-52ead9a24824",
   "metadata": {},
   "outputs": [],
   "source": [
    "import cv2\n",
    "from skimage import data, img_as_float\n",
    "from skimage.metrics import structural_similarity as ssim"
   ]
  },
  {
   "cell_type": "code",
   "execution_count": null,
   "id": "1e8d300a-52be-447d-856b-bc1b9d602c4d",
   "metadata": {},
   "outputs": [],
   "source": [
    "\n",
    "# Load images\n",
    "image1 = cv2.imread(image1)\n",
    "image2 = cv2.imread(image2)\n",
    "image2 = cv2.resize(image2, (image1.shape[1], image1.shape[0]), interpolation = cv2.INTER_AREA)\n",
    "print(image1.shape, image2.shape)\n",
    "# Convert images to grayscale\n",
    "image1_gray = cv2.cvtColor(image1, cv2.COLOR_BGR2GRAY)\n",
    "image2_gray = cv2.cvtColor(image2, cv2.COLOR_BGR2GRAY)\n",
    "# Calculate SSIM\n",
    "ssim_score = metrics.structural_similarity(image1_gray, image2_gray, full=True)\n",
    "print(f\"SSIM Score: \", round(ssim_score[0], 2))\n",
    "# SSIM Score: 0.38"
   ]
  },
  {
   "cell_type": "code",
   "execution_count": null,
   "id": "96595f3b-6846-4fa1-b3b4-7058b409e060",
   "metadata": {},
   "outputs": [],
   "source": [
    "def ssim_compare(img1_path, img2_path) :\n",
    "    img1 = cv2.imread(img1_path, 0)\n",
    "    img2 = cv2.imread(img2_path, 0)\n",
    "    dim = (6022,5513)\n",
    "    # print(\"Img1 Resolution:\", img1.shape)\n",
    "    # print(\"Img2 Resolution:\", img2.shape)\n",
    "    img1 = cv2.resize(img1, dim)\n",
    "    img2 = cv2.resize(img2, dim)\n",
    "    # print(\"Img1 Res :\", img1.shape)\n",
    "    # print(\"Img2 Res :\", img2.shape)\n",
    "    ssim_score, dif = ssim(img1, img2, full=True)\n",
    "    return ssim_score\n"
   ]
  },
  {
   "cell_type": "code",
   "execution_count": 4,
   "id": "239771a2-6a66-4a58-8939-cd460228d85b",
   "metadata": {},
   "outputs": [
    {
     "name": "stderr",
     "output_type": "stream",
     "text": [
      "usage: ipykernel_launcher.py [-h] folder\n",
      "ipykernel_launcher.py: error: unrecognized arguments: -f\n"
     ]
    },
    {
     "ename": "SystemExit",
     "evalue": "2",
     "output_type": "error",
     "traceback": [
      "An exception has occurred, use %tb to see the full traceback.\n",
      "\u001b[0;31mSystemExit\u001b[0m\u001b[0;31m:\u001b[0m 2\n"
     ]
    },
    {
     "name": "stderr",
     "output_type": "stream",
     "text": [
      "/opt/anaconda-2024.02/lib/python3.11/site-packages/IPython/core/interactiveshell.py:3561: UserWarning: To exit: use 'exit', 'quit', or Ctrl-D.\n",
      "  warn(\"To exit: use 'exit', 'quit', or Ctrl-D.\", stacklevel=1)\n"
     ]
    }
   ],
   "source": [
    "import os\n",
    "import re\n",
    "import numpy as np\n",
    "from PIL import Image\n",
    "from skimage.metrics import structural_similarity as ssim\n",
    "\n",
    "# 1) Helper to compute SSIM on two RGB images\n",
    "def compute_ssim(path1, path2):\n",
    "    # load as H×W×3 uint8 arrays\n",
    "    im1 = np.array(Image.open(path1).convert(\"RGB\"))\n",
    "    im2 = np.array(Image.open(path2).convert(\"RGB\"))\n",
    "    # multichannel=True lets SSIM run on color\n",
    "    score, _ = ssim(im1, im2, multichannel=True, full=True, data_range=im1.max()-im1.min())\n",
    "    return score\n",
    "\n",
    "def stats_ssim_from_folder(folder):\n",
    "\n",
    "    pattern = re.compile(r\"(.+)_cs\\.(png|jpe?g|bmp)$\", re.IGNORECASE)\n",
    "    entries = []  # will hold (ssim_score, base, stylized_path)\n",
    "\n",
    "    for fname in sorted(os.listdir(folder)):\n",
    "        m = pattern.match(fname)\n",
    "        if not m:\n",
    "            continue\n",
    "        base, ext = m.groups()\n",
    "        stylized_path = os.path.join(folder, fname)\n",
    "        content_path  = os.path.join(folder, f\"{base}_c.{ext}\")\n",
    "\n",
    "        if not os.path.isfile(content_path):\n",
    "            print(f\"  → skipping {base}: missing content file\")\n",
    "            continue\n",
    "\n",
    "        try:\n",
    "            score = compute_ssim(stylized_path, content_path)\n",
    "        except Exception as e:\n",
    "            print(f\"  ⚠️ failed on {base}: {e}\")\n",
    "            continue\n",
    "\n",
    "        entries.append((score, base, stylized_path))\n",
    "\n",
    "    if not entries:\n",
    "        print(\"No valid *_cs / *_c pairs found.\")\n",
    "        return\n",
    "\n",
    "    # aggregate\n",
    "    scores = [e[0] for e in entries]\n",
    "    avg   = sum(scores) / len(scores)\n",
    "    mn_e  = min(entries, key=lambda x: x[0])\n",
    "    mx_e  = max(entries, key=lambda x: x[0])\n",
    "\n",
    "    print(f\"Computed SSIM on {len(entries)} pairs:\")\n",
    "    print(f\"  Average SSIM = {avg:.4f}\")\n",
    "    print(f\"  Min  SSIM = {mn_e[0]:.4f}  ← {mn_e[2]}\")\n",
    "    print(f\"  Max  SSIM = {mx_e[0]:.4f}  ← {mx_e[2]}\")\n",
    "\n",
    "if __name__ == \"__main__\":\n",
    "    import argparse\n",
    "    p = argparse.ArgumentParser()\n",
    "    p.add_argument(\"folder\", help=\"../AdaAttN/results/AdaAttN_test/test_latest/images\")\n",
    "    args = p.parse_args()\n",
    "\n",
    "    stats_ssim_from_folder(args.folder)\n"
   ]
  },
  {
   "cell_type": "code",
   "execution_count": 6,
   "id": "90216eb0-77e2-48cd-a1bd-3028f9932d94",
   "metadata": {},
   "outputs": [],
   "source": [
    "import os\n",
    "import re\n",
    "import numpy as np\n",
    "from PIL import Image\n",
    "import cv2\n",
    "from skimage import data, img_as_float\n",
    "from skimage.metrics import structural_similarity as ssim\n",
    "from pathlib import Path\n",
    "import shutil\n",
    "\n",
    "def compute_ssim(path1, path2):\n",
    "    # load as H×W×3 uint8 arrays\n",
    "    img1 = cv2.imread(path1)\n",
    "    img2 = cv2.imread(path2)\n",
    "\n",
    "    dim = (512, 512)\n",
    "    img1 = cv2.resize(img1, dim)\n",
    "    img2 = cv2.resize(img2, dim)\n",
    "\n",
    "    # multichannel=True lets SSIM run on color\n",
    "    score = ssim(img1, img2, channel_axis=2, data_range=img2.max()-img2.min()) # Running TEST\n",
    "    return score\n",
    "\n",
    "def stats_ssim_from_folder(folder, outname, model=\"AdaAttN\"):\n",
    "    content_dir = \"../data/content_test_small\"\n",
    "    #content_dir = \"../StyTR-2/input/content\"\n",
    "    pattern = re.compile(r\"(.+)_cs\\.(png|jpg|jpeg|bmp)$\", re.IGNORECASE)\n",
    "    out = []\n",
    "    \n",
    "    for fname in sorted(os.listdir(folder)):\n",
    "        if model == \"AdaAttN\":\n",
    "            m = pattern.match(fname)\n",
    "            if not m:\n",
    "                continue\n",
    "                \n",
    "            stylized_path = os.path.join(folder, fname)\n",
    "            content_path = stylized_path.replace(\"_cs.\", \"_c.\")\n",
    "            \n",
    "        elif model==\"StyTr2\":\n",
    "            if not fname.lower().endswith(\".jpg\"):\n",
    "                continue  # Skip non-JPG files\n",
    "                \n",
    "            stylized_path = os.path.join(folder, fname)\n",
    "            content_path = os.path.join(content_dir, \n",
    "                                        re.match(r'^(.*?)_stylized_', fname).group(1) + \".jpg\")\n",
    "            \n",
    "\n",
    "        if not os.path.isfile(content_path):\n",
    "            print(f\"  → skipping {fname}: missing content file\")\n",
    "            continue\n",
    "\n",
    "        try:\n",
    "            score = compute_ssim(stylized_path, content_path)\n",
    "        except Exception as e:\n",
    "            print(f\"  ⚠️ failed on {fname}: {e}\")\n",
    "            continue\n",
    "\n",
    "        out.append(score)\n",
    "    \n",
    "    with open(\"SSIM_\" + outname + \".txt\", \"w\") as f:\n",
    "        f.write(str(np.mean(out)) + \"\\n\")"
   ]
  },
  {
   "cell_type": "code",
   "execution_count": 8,
   "id": "cf020f20-fa68-4142-9d9c-53923f914593",
   "metadata": {},
   "outputs": [],
   "source": [
    "stats_ssim_from_folder(\"../AdaAttN/results/AdaAttN_test/test_latest/images\", \"test\" , model=\"AdaAttN\")"
   ]
  },
  {
   "cell_type": "code",
   "execution_count": 9,
   "id": "aa8d7725-390b-438d-a082-945680a25a3d",
   "metadata": {},
   "outputs": [
    {
     "name": "stdout",
     "output_type": "stream",
     "text": [
      "  → skipping 14_stylized_20200428220829.jpg: missing content file\n",
      "  → skipping 14_stylized_3314.jpg: missing content file\n",
      "  → skipping 14_stylized_feathers.jpg: missing content file\n",
      "  → skipping 14_stylized_rain_princess.jpg: missing content file\n",
      "  → skipping 14_stylized_udnie.jpg: missing content file\n",
      "  → skipping 14_stylized_wave.jpg: missing content file\n",
      "  → skipping RoundBales_stylized_20200428220829.jpg: missing content file\n",
      "  → skipping RoundBales_stylized_3314.jpg: missing content file\n",
      "  → skipping RoundBales_stylized_feathers.jpg: missing content file\n",
      "  → skipping RoundBales_stylized_rain_princess.jpg: missing content file\n",
      "  → skipping RoundBales_stylized_udnie.jpg: missing content file\n",
      "  → skipping RoundBales_stylized_wave.jpg: missing content file\n",
      "  → skipping bair_stylized_20200428220829.jpg: missing content file\n",
      "  → skipping bair_stylized_3314.jpg: missing content file\n",
      "  → skipping bair_stylized_feathers.jpg: missing content file\n",
      "  → skipping bair_stylized_rain_princess.jpg: missing content file\n",
      "  → skipping bair_stylized_udnie.jpg: missing content file\n",
      "  → skipping bair_stylized_wave.jpg: missing content file\n",
      "  → skipping bird_stylized_20200428220829.jpg: missing content file\n",
      "  → skipping bird_stylized_3314.jpg: missing content file\n",
      "  → skipping bird_stylized_feathers.jpg: missing content file\n",
      "  → skipping bird_stylized_rain_princess.jpg: missing content file\n",
      "  → skipping bird_stylized_udnie.jpg: missing content file\n",
      "  → skipping bird_stylized_wave.jpg: missing content file\n",
      "  → skipping farmer_stylized_20200428220829.jpg: missing content file\n",
      "  → skipping farmer_stylized_3314.jpg: missing content file\n",
      "  → skipping farmer_stylized_feathers.jpg: missing content file\n",
      "  → skipping farmer_stylized_rain_princess.jpg: missing content file\n",
      "  → skipping farmer_stylized_udnie.jpg: missing content file\n",
      "  → skipping farmer_stylized_wave.jpg: missing content file\n",
      "  → skipping taj_mahal_stylized_20200428220829.jpg: missing content file\n",
      "  → skipping taj_mahal_stylized_3314.jpg: missing content file\n",
      "  → skipping taj_mahal_stylized_feathers.jpg: missing content file\n",
      "  → skipping taj_mahal_stylized_rain_princess.jpg: missing content file\n",
      "  → skipping taj_mahal_stylized_udnie.jpg: missing content file\n",
      "  → skipping taj_mahal_stylized_wave.jpg: missing content file\n",
      "  → skipping tubingen_stylized_20200428220829.jpg: missing content file\n",
      "  → skipping tubingen_stylized_3314.jpg: missing content file\n",
      "  → skipping tubingen_stylized_feathers.jpg: missing content file\n",
      "  → skipping tubingen_stylized_rain_princess.jpg: missing content file\n",
      "  → skipping tubingen_stylized_udnie.jpg: missing content file\n",
      "  → skipping tubingen_stylized_wave.jpg: missing content file\n",
      "  → skipping venice-boat_stylized_20200428220829.jpg: missing content file\n",
      "  → skipping venice-boat_stylized_3314.jpg: missing content file\n",
      "  → skipping venice-boat_stylized_feathers.jpg: missing content file\n",
      "  → skipping venice-boat_stylized_rain_princess.jpg: missing content file\n",
      "  → skipping venice-boat_stylized_udnie.jpg: missing content file\n",
      "  → skipping venice-boat_stylized_wave.jpg: missing content file\n"
     ]
    },
    {
     "name": "stderr",
     "output_type": "stream",
     "text": [
      "/opt/anaconda-2024.02/lib/python3.11/site-packages/numpy/core/fromnumeric.py:3464: RuntimeWarning: Mean of empty slice.\n",
      "  return _methods._mean(a, axis=axis, dtype=dtype,\n",
      "/opt/anaconda-2024.02/lib/python3.11/site-packages/numpy/core/_methods.py:192: RuntimeWarning: invalid value encountered in scalar divide\n",
      "  ret = ret.dtype.type(ret / rcount)\n"
     ]
    }
   ],
   "source": [
    "stats_ssim_from_folder(\"../StyTR-2/out\", \"test\", model=\"StyTr2\")"
   ]
  },
  {
   "cell_type": "code",
   "execution_count": 7,
   "id": "2186acbf-77ee-4435-ad34-5d3cd3c0bb62",
   "metadata": {},
   "outputs": [],
   "source": [
    "stats_ssim_from_folder(\"../StyTR-2/out_selftrained\", \"StyTr2_retrain\", model=\"StyTr2\")"
   ]
  },
  {
   "cell_type": "code",
   "execution_count": null,
   "id": "a0aba161-b436-4022-8539-85a59abc6a3e",
   "metadata": {},
   "outputs": [],
   "source": []
  }
 ],
 "metadata": {
  "kernelspec": {
   "display_name": "Python 3 (ipykernel)",
   "language": "python",
   "name": "python3"
  },
  "language_info": {
   "codemirror_mode": {
    "name": "ipython",
    "version": 3
   },
   "file_extension": ".py",
   "mimetype": "text/x-python",
   "name": "python",
   "nbconvert_exporter": "python",
   "pygments_lexer": "ipython3",
   "version": "3.11.8"
  }
 },
 "nbformat": 4,
 "nbformat_minor": 5
}
