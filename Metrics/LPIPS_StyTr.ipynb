{
 "cells": [
  {
   "cell_type": "code",
   "execution_count": 1,
   "id": "1aaddb52-c0f1-4bc7-bc19-7f70d9f783d1",
   "metadata": {},
   "outputs": [
    {
     "name": "stdout",
     "output_type": "stream",
     "text": [
      "Setting up [LPIPS] perceptual loss: trunk [alex], v[0.1], spatial [off]\n"
     ]
    },
    {
     "name": "stderr",
     "output_type": "stream",
     "text": [
      "/opt/anaconda-2024.02/lib/python3.11/site-packages/torchvision/models/_utils.py:208: UserWarning: The parameter 'pretrained' is deprecated since 0.13 and may be removed in the future, please use 'weights' instead.\n",
      "  warnings.warn(\n",
      "/opt/anaconda-2024.02/lib/python3.11/site-packages/torchvision/models/_utils.py:223: UserWarning: Arguments other than a weight enum or `None` for 'weights' are deprecated since 0.13 and may be removed in the future. The current behavior is equivalent to passing `weights=AlexNet_Weights.IMAGENET1K_V1`. You can also use `weights=AlexNet_Weights.DEFAULT` to get the most up-to-date weights.\n",
      "  warnings.warn(msg)\n"
     ]
    },
    {
     "name": "stdout",
     "output_type": "stream",
     "text": [
      "Loading model from: /home/cv27f25/.local/lib/python3.11/site-packages/lpips/weights/v0.1/alex.pth\n"
     ]
    }
   ],
   "source": [
    "import os\n",
    "import re\n",
    "import lpips\n",
    "import torch\n",
    "from PIL import Image\n",
    "import torchvision.transforms as T\n",
    "\n",
    "# 1) Init LPIPS model\n",
    "loss_fn = lpips.LPIPS(net='alex').cuda()  \n",
    "loss_fn.eval()\n",
    "\n",
    "# 2) Pre‐processing to [-1,1]\n",
    "transform = T.Compose([\n",
    "    T.Resize((512, 512)),            \n",
    "    T.ToTensor(),\n",
    "    T.Normalize((0.5,)*3, (0.5,)*3),  \n",
    "])\n",
    "\n",
    "\n",
    "def load_tensor(path):\n",
    "    img = Image.open(path).convert('RGB')\n",
    "    t = transform(img).unsqueeze(0)\n",
    "    return t.cuda() if torch.cuda.is_available() else t\n",
    "\n",
    "def find_file_with_any_ext(folder, base_name):\n",
    "    for ext in [\"jpg\", \"jpeg\", \"png\", \"bmp\"]:\n",
    "        path = os.path.join(folder, f\"{base_name}.{ext}\")\n",
    "        if os.path.isfile(path):\n",
    "            return path\n",
    "    return None\n",
    "\n",
    "def average_lpips_from_folder(stylized_folder, content_folder, style_folder):\n",
    "    pattern = re.compile(r'(.+)_stylized_(.+)\\.(png|jpg|jpeg|bmp)$', re.IGNORECASE)\n",
    "    scores_stylepreservation = []\n",
    "    scores_contentpreservation = []\n",
    "\n",
    "    for fname in sorted(os.listdir(stylized_folder)):\n",
    "        m = pattern.match(fname)\n",
    "        if not m:\n",
    "            continue\n",
    "        content_name, style_name, ext = m.groups()\n",
    "        stylized_path = os.path.join(stylized_folder, fname)\n",
    "        content_path = find_file_with_any_ext(content_folder, content_name)\n",
    "        style_path = find_file_with_any_ext(style_folder, style_name)\n",
    "        \n",
    "        if not content_path:\n",
    "            print(f\"  → Skipping {fname}: no content file found\")\n",
    "            continue\n",
    "        if not style_path:\n",
    "            print(f\"  → Skipping {fname}: no style file found\")\n",
    "            continue\n",
    "\n",
    "        stylized = load_tensor(stylized_path)\n",
    "        content = load_tensor(content_path)\n",
    "        style = load_tensor(style_path)\n",
    "\n",
    "        with torch.no_grad():\n",
    "            score_style = loss_fn(stylized, style).item()\n",
    "            score_content = loss_fn(stylized, content).item()\n",
    "\n",
    "        scores_stylepreservation.append(score_style)\n",
    "        scores_contentpreservation.append(score_content)\n",
    "\n",
    "    if not scores_stylepreservation:\n",
    "        print(\"No valid stylized/content/style triples found in folder.\")\n",
    "        return\n",
    "\n",
    "    print(\"\\nSTYLE PRESERVATION\")\n",
    "    avg = sum(scores_stylepreservation) / len(scores_stylepreservation)\n",
    "    print(f\"Computed LPIPS on {len(scores_stylepreservation)} pairs.  Average LPIPS = {avg:.4f}\")\n",
    "\n",
    "    print(\"\\nCONTENT PRESERVATION\")\n",
    "    avg = sum(scores_contentpreservation) / len(scores_contentpreservation)\n",
    "    print(f\"Computed LPIPS on {len(scores_contentpreservation)} pairs.  Average LPIPS = {avg:.4f}\")\n"
   ]
  },
  {
   "cell_type": "code",
   "execution_count": 3,
   "id": "53955cce-97f4-4d57-a929-8776a40af8c9",
   "metadata": {},
   "outputs": [
    {
     "name": "stdout",
     "output_type": "stream",
     "text": [
      "\n",
      "STYLE PRESERVATION\n",
      "Computed LPIPS on 20250 pairs.  Average LPIPS = 0.6760\n",
      "\n",
      "CONTENT PRESERVATION\n",
      "Computed LPIPS on 20250 pairs.  Average LPIPS = 0.5286\n"
     ]
    }
   ],
   "source": [
    "if __name__ == \"__main__\":\n",
    "    stylized_folder = \"../StyTR-2/out1\"\n",
    "    content_folder = \"resized_content_test_small\"\n",
    "    style_folder = \"../data/style_test_small\"\n",
    "    average_lpips_from_folder(stylized_folder, content_folder, style_folder)\n"
   ]
  },
  {
   "cell_type": "code",
   "execution_count": 4,
   "id": "4aeb77c0-3611-46b9-a6db-b0d08b642291",
   "metadata": {},
   "outputs": [
    {
     "name": "stdout",
     "output_type": "stream",
     "text": [
      "\n",
      "STYLE PRESERVATION\n",
      "Computed LPIPS on 48 pairs.  Average LPIPS = 0.7044\n",
      "\n",
      "CONTENT PRESERVATION\n",
      "Computed LPIPS on 48 pairs.  Average LPIPS = 0.5948\n"
     ]
    }
   ],
   "source": [
    "if __name__ == \"__main__\":\n",
    "    stylized_folder = \"../StyTR-2/out\"\n",
    "    content_folder = \"../StyTR-2/input/content\"\n",
    "    style_folder = \"../StyTR-2/input/style\"\n",
    "    average_lpips_from_folder(stylized_folder, content_folder, style_folder)"
   ]
  },
  {
   "cell_type": "code",
   "execution_count": null,
   "id": "729c833a-ff03-43b0-ae41-5d54b62bd0c0",
   "metadata": {},
   "outputs": [],
   "source": [
    "if __name__ == \"__main__\":\n",
    "    stylized_folder = \"../StyTR-2/out_selftrained\"\n",
    "    content_folder = \"resized_content_test_small\"\n",
    "    style_folder = \"../data/style_test_small\"\n",
    "    average_lpips_from_folder(stylized_folder, content_folder, style_folder)\n"
   ]
  }
 ],
 "metadata": {
  "kernelspec": {
   "display_name": "Python 3 (ipykernel)",
   "language": "python",
   "name": "python3"
  },
  "language_info": {
   "codemirror_mode": {
    "name": "ipython",
    "version": 3
   },
   "file_extension": ".py",
   "mimetype": "text/x-python",
   "name": "python",
   "nbconvert_exporter": "python",
   "pygments_lexer": "ipython3",
   "version": "3.11.8"
  }
 },
 "nbformat": 4,
 "nbformat_minor": 5
}
