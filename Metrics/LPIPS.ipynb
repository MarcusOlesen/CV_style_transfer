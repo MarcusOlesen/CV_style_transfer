{
 "cells": [
  {
   "cell_type": "code",
   "execution_count": 16,
   "id": "a561f690-972d-4e9b-91ae-30a4ee951800",
   "metadata": {},
   "outputs": [
    {
     "name": "stdout",
     "output_type": "stream",
     "text": [
      "Setting up [LPIPS] perceptual loss: trunk [alex], v[0.1], spatial [off]\n",
      "Loading model from: /home/cv27f25/.local/lib/python3.11/site-packages/lpips/weights/v0.1/alex.pth\n"
     ]
    }
   ],
   "source": [
    "import os\n",
    "import re\n",
    "import lpips\n",
    "import torch\n",
    "from PIL import Image\n",
    "import torchvision.transforms as T\n",
    "\n",
    "# 1) Init LPIPS model\n",
    "loss_fn = lpips.LPIPS(net='alex').cuda()  # move to GPU if available\n",
    "loss_fn.eval()\n",
    "\n",
    "# 2) Pre‐processing to [-1,1]\n",
    "transform = T.Compose([\n",
    "    T.Resize((512, 512)),            # or your working resolution\n",
    "    T.ToTensor(),\n",
    "    T.Normalize((0.5,)*3, (0.5,)*3),  # LPIPS expects inputs in [-1,1]\n",
    "])\n",
    "\n",
    "def load_tensor(path):\n",
    "    img = Image.open(path).convert('RGB')\n",
    "    t = transform(img).unsqueeze(0)\n",
    "    return t.cuda() if torch.cuda.is_available() else t\n",
    "\n",
    "def average_lpips_from_folder(folder):\n",
    "    # regex to pull off the \"<base>_cs.ext\"\n",
    "    pattern = re.compile(r'(.+)_cs\\.(png|jpg|jpeg|bmp)$', re.IGNORECASE)\n",
    "    scores_stylepreservation = []\n",
    "    scores_contentpreservation = []\n",
    "\n",
    "    for fname in sorted(os.listdir(folder)):\n",
    "        m = pattern.match(fname)\n",
    "        if not m:\n",
    "            continue\n",
    "        base, _ = m.groups()\n",
    "        stylized_path = os.path.join(folder, fname)\n",
    "        content_path  = os.path.join(folder, f\"{base}_c.{fname.split('.')[-1]}\")\n",
    "        style_path  = os.path.join(folder, f\"{base}_s.{fname.split('.')[-1]}\")\n",
    "\n",
    "        if not os.path.isfile(content_path):\n",
    "            print(f\"  → skipping {base}: no content file found\")\n",
    "            continue\n",
    "\n",
    "        # load\n",
    "        stylized = load_tensor(stylized_path)\n",
    "        content  = load_tensor(content_path)\n",
    "        style = load_tensor(style_path)\n",
    "\n",
    "        # compute LPIPS\n",
    "        with torch.no_grad():\n",
    "            score_style = loss_fn(stylized, style).item()\n",
    "            score_content = loss_fn(stylized, content).item()\n",
    "        scores_stylepreservation.append(score_style)\n",
    "        scores_contentpreservation.append(score_content)\n",
    "        #print(score_content)\n",
    "\n",
    "    if not scores_stylepreservation:\n",
    "        print(\"No valid _cs/_c pairs found in folder.\")\n",
    "        return\n",
    "\n",
    "    print(\"\\nSTYLE PRESERVATION\")\n",
    "    avg = sum(scores_stylepreservation) / len(scores_stylepreservation)\n",
    "    print(f\"Computed LPIPS on {len(scores_stylepreservation)} pairs.  Average LPIPS = {avg:.4f}\")\n",
    "    print(\"\\nCONTENT PRESERVATION\")\n",
    "    avg = sum(scores_contentpreservation) / len(scores_contentpreservation)\n",
    "    print(f\"Computed LPIPS on {len(scores_contentpreservation)} pairs.  Average LPIPS = {avg:.4f}\")"
   ]
  },
  {
   "cell_type": "code",
   "execution_count": 17,
   "id": "dddd02c9-fe0f-473d-8125-fa34ba3617e9",
   "metadata": {},
   "outputs": [
    {
     "name": "stdout",
     "output_type": "stream",
     "text": [
      "\n",
      "STYLE PRESERVATION\n",
      "Computed LPIPS on 20250 pairs.  Average LPIPS = 0.6833\n",
      "\n",
      "CONTENT PRESERVATION\n",
      "Computed LPIPS on 20250 pairs.  Average LPIPS = 0.5480\n"
     ]
    }
   ],
   "source": [
    "if __name__ == \"__main__\":\n",
    "    data_folder = \"../AdaAttN/results/AdaAttN_retrain/test_latest/images\"\n",
    "    average_lpips_from_folder(data_folder)"
   ]
  },
  {
   "cell_type": "code",
   "execution_count": 18,
   "id": "d361f52e-a535-4e9a-a6b3-f44297423e92",
   "metadata": {},
   "outputs": [
    {
     "name": "stdout",
     "output_type": "stream",
     "text": [
      "\n",
      "STYLE PRESERVATION\n",
      "Computed LPIPS on 20250 pairs.  Average LPIPS = 0.6811\n",
      "\n",
      "CONTENT PRESERVATION\n",
      "Computed LPIPS on 20250 pairs.  Average LPIPS = 0.5378\n"
     ]
    }
   ],
   "source": [
    "if __name__ == \"__main__\":\n",
    "    data_folder = \"../AdaAttN/results/AdaAttN/test_latest/images\"\n",
    "    average_lpips_from_folder(data_folder)"
   ]
  }
 ],
 "metadata": {
  "kernelspec": {
   "display_name": "Python 3 (ipykernel)",
   "language": "python",
   "name": "python3"
  },
  "language_info": {
   "codemirror_mode": {
    "name": "ipython",
    "version": 3
   },
   "file_extension": ".py",
   "mimetype": "text/x-python",
   "name": "python",
   "nbconvert_exporter": "python",
   "pygments_lexer": "ipython3",
   "version": "3.11.8"
  }
 },
 "nbformat": 4,
 "nbformat_minor": 5
}
