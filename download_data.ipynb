{
 "cells": [
  {
   "cell_type": "code",
   "execution_count": 2,
   "id": "fe5ecde6-ca62-47a7-9737-f9c274f2868f",
   "metadata": {},
   "outputs": [
    {
     "name": "stdout",
     "output_type": "stream",
     "text": [
      "Resuming download from 1335885824 bytes (45553341384 bytes left)...\n",
      "Resuming download from https://www.kaggle.com/api/v1/datasets/download/sabahesaraki/2017-2017?dataset_version_number=1 (1335885824/46889227208) bytes left.\n"
     ]
    },
    {
     "name": "stderr",
     "output_type": "stream",
     "text": [
      "100%|██████████| 43.7G/43.7G [23:02<00:00, 33.0MB/s]  "
     ]
    },
    {
     "name": "stdout",
     "output_type": "stream",
     "text": [
      "Extracting files...\n"
     ]
    },
    {
     "name": "stderr",
     "output_type": "stream",
     "text": [
      "\n"
     ]
    },
    {
     "name": "stdout",
     "output_type": "stream",
     "text": [
      "Path to dataset files: /home/cv27f25/.cache/kagglehub/datasets/sabahesaraki/2017-2017/versions/1\n"
     ]
    }
   ],
   "source": [
    "import kagglehub\n",
    "\n",
    "# Download the dataset to the specified location\n",
    "path = kagglehub.dataset_download(\"sabahesaraki/2017-2017\")\n",
    "\n",
    "print(\"Path to dataset files:\", path)"
   ]
  },
  {
   "cell_type": "code",
   "execution_count": 7,
   "id": "ac1604b5-55ff-4d08-994b-65fc0e5f6e3b",
   "metadata": {},
   "outputs": [],
   "source": [
    "!mv /home/cv27f25/Group_27/1 /home/cv27f25/Group_27/data/content \n"
   ]
  },
  {
   "cell_type": "code",
   "execution_count": 3,
   "id": "eb171b19-da6d-44c2-8919-20c4e7ea9832",
   "metadata": {},
   "outputs": [
    {
     "name": "stdout",
     "output_type": "stream",
     "text": [
      "Resuming download from 13263437824 bytes (20399233849 bytes left)...\n",
      "Resuming download from https://www.kaggle.com/api/v1/datasets/download/steubk/wikiart?dataset_version_number=1 (13263437824/33662671673) bytes left.\n"
     ]
    },
    {
     "name": "stderr",
     "output_type": "stream",
     "text": [
      "100%|██████████| 31.4G/31.4G [08:42<00:00, 39.0MB/s]  "
     ]
    },
    {
     "name": "stdout",
     "output_type": "stream",
     "text": [
      "Extracting files...\n"
     ]
    },
    {
     "name": "stderr",
     "output_type": "stream",
     "text": [
      "\n"
     ]
    }
   ],
   "source": [
    "import kagglehub\n",
    "\n",
    "path_wiki = kagglehub.dataset_download(\"steubk/wikiart\")"
   ]
  },
  {
   "cell_type": "code",
   "execution_count": 4,
   "id": "8f2b5ced-c07a-4ff8-b739-3a78c25d9832",
   "metadata": {},
   "outputs": [
    {
     "data": {
      "text/plain": [
       "'/home/cv27f25/.cache/kagglehub/datasets/steubk/wikiart/versions/1'"
      ]
     },
     "execution_count": 4,
     "metadata": {},
     "output_type": "execute_result"
    }
   ],
   "source": [
    "path_wiki"
   ]
  },
  {
   "cell_type": "code",
   "execution_count": 5,
   "id": "ca0c8455-2354-4a68-b5f6-8ed270d14b7c",
   "metadata": {},
   "outputs": [],
   "source": [
    "!mv /home/cv27f25/.cache/kagglehub/datasets/steubk/wikiart/versions/1 /home/cv27f25/Group_27/data "
   ]
  },
  {
   "cell_type": "code",
   "execution_count": 2,
   "id": "93ddf4cf-89fe-409e-8b38-7798e1ccb43d",
   "metadata": {},
   "outputs": [
    {
     "data": {
      "text/plain": [
       "4"
      ]
     },
     "execution_count": 2,
     "metadata": {},
     "output_type": "execute_result"
    }
   ],
   "source": []
  }
 ],
 "metadata": {
  "kernelspec": {
   "display_name": "Python 3 (ipykernel)",
   "language": "python",
   "name": "python3"
  },
  "language_info": {
   "codemirror_mode": {
    "name": "ipython",
    "version": 3
   },
   "file_extension": ".py",
   "mimetype": "text/x-python",
   "name": "python",
   "nbconvert_exporter": "python",
   "pygments_lexer": "ipython3",
   "version": "3.11.8"
  }
 },
 "nbformat": 4,
 "nbformat_minor": 5
}
