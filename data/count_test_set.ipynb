{
 "cells": [
  {
   "cell_type": "code",
   "execution_count": 9,
   "id": "6817f638-b428-4075-94bf-617aa162b85b",
   "metadata": {},
   "outputs": [],
   "source": [
    "import os\n",
    "from pathlib import Path\n",
    "content_dir = Path(\"../data/content/test2017/test2017\")\n",
    "style_dir = Path(\"../data/style/test\")\n",
    "\n",
    "content_images = sorted(content_dir.glob(\"*\"))\n",
    "styles = sorted(style_dir.glob(\"*\"))\n",
    "style_images = []\n",
    "for style in styles:\n",
    "    style_images += sorted(style.glob(\"*\"))\n",
    "    "
   ]
  },
  {
   "cell_type": "code",
   "execution_count": 6,
   "id": "b94dc0c0-123c-4315-b7ba-a65101b2a198",
   "metadata": {},
   "outputs": [
    {
     "data": {
      "text/plain": [
       "40670"
      ]
     },
     "execution_count": 6,
     "metadata": {},
     "output_type": "execute_result"
    }
   ],
   "source": [
    "len(content_images)"
   ]
  },
  {
   "cell_type": "code",
   "execution_count": 10,
   "id": "f78ef46a-119c-47b2-af8d-7154b3b67a1b",
   "metadata": {},
   "outputs": [
    {
     "data": {
      "text/plain": [
       "15860"
      ]
     },
     "execution_count": 10,
     "metadata": {},
     "output_type": "execute_result"
    }
   ],
   "source": [
    "len(style_images)"
   ]
  },
  {
   "cell_type": "code",
   "execution_count": 12,
   "id": "a3040902-bbc9-4341-9c1c-19b81b7a5d49",
   "metadata": {},
   "outputs": [
    {
     "data": {
      "text/plain": [
       "645026200"
      ]
     },
     "execution_count": 12,
     "metadata": {},
     "output_type": "execute_result"
    }
   ],
   "source": [
    "len(style_images) * len(content_images)"
   ]
  },
  {
   "cell_type": "code",
   "execution_count": 27,
   "id": "0ef0602e-d8fb-40c5-8c7f-c6b31dbea40a",
   "metadata": {},
   "outputs": [
    {
     "name": "stdout",
     "output_type": "stream",
     "text": [
      "testing all combinations would take 20 years and 165 days ..\n"
     ]
    }
   ],
   "source": [
    "print(f\"testing all combinations would take {int(len(style_images) * len(content_images) / 60 / 60 / 24 / 365)} years and {int(len(style_images) * len(content_images) / 60 / 60 / 24 % 365)} days ..\")"
   ]
  }
 ],
 "metadata": {
  "kernelspec": {
   "display_name": "Python 3 (ipykernel)",
   "language": "python",
   "name": "python3"
  },
  "language_info": {
   "codemirror_mode": {
    "name": "ipython",
    "version": 3
   },
   "file_extension": ".py",
   "mimetype": "text/x-python",
   "name": "python",
   "nbconvert_exporter": "python",
   "pygments_lexer": "ipython3",
   "version": "3.11.8"
  }
 },
 "nbformat": 4,
 "nbformat_minor": 5
}
