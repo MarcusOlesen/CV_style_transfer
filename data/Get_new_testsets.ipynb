{
 "cells": [
  {
   "cell_type": "code",
   "execution_count": 7,
   "id": "24075016-bcdc-41d5-9f16-d3c1ebcda90f",
   "metadata": {},
   "outputs": [],
   "source": [
    "import os\n",
    "from pathlib import Path\n",
    "import random\n",
    "import shutil\n",
    "\n",
    "# Original directories\n",
    "content_dir = Path(\"../data/content/test2017/test2017\")\n",
    "style_dir = Path(\"../data/style/test\")\n",
    "\n",
    "# New target directories\n",
    "content_test_dir = Path(\"../data/content_test_small\")\n",
    "style_test_dir = Path(\"../data/style_test_small\")\n",
    "\n",
    "# Remove directories if they exist\n",
    "if content_test_dir.exists():\n",
    "    shutil.rmtree(content_test_dir)\n",
    "if style_test_dir.exists():\n",
    "    shutil.rmtree(style_test_dir)\n",
    "    \n",
    "# Create clean directories\n",
    "content_test_dir.mkdir(parents=True, exist_ok=True)\n",
    "style_test_dir.mkdir(parents=True, exist_ok=True)\n",
    "\n",
    "# set seed for reproducibility\n",
    "random.seed(42)\n",
    "\n",
    "# Sample content images\n",
    "content_images = random.sample(sorted(content_dir.glob(\"*\")), 250)\n",
    "\n",
    "# Copy content images\n",
    "for img in content_images:\n",
    "    shutil.copy(img, content_test_dir / img.name)\n",
    "\n",
    "# Sample and copy style images\n",
    "styles = sorted(style_dir.glob(\"*\"))\n",
    "style_images = []\n",
    "for style in styles:\n",
    "    sampled = random.sample(sorted(style.glob(\"*\")), 3)\n",
    "    style_images.extend(sampled)\n",
    "    for img in sampled:\n",
    "        shutil.copy(img, style_test_dir / img.name)\n"
   ]
  },
  {
   "cell_type": "code",
   "execution_count": 8,
   "id": "f41fcf57-4fab-4f0d-a313-85754dc07344",
   "metadata": {},
   "outputs": [
    {
     "data": {
      "text/plain": [
       "20250"
      ]
     },
     "execution_count": 8,
     "metadata": {},
     "output_type": "execute_result"
    }
   ],
   "source": [
    "len(style_images) * len(content_images)"
   ]
  },
  {
   "cell_type": "code",
   "execution_count": 6,
   "id": "7ba0ff3f-29c1-4b14-906f-0c105a9175d5",
   "metadata": {},
   "outputs": [
    {
     "data": {
      "text/plain": [
       "5.625"
      ]
     },
     "execution_count": 6,
     "metadata": {},
     "output_type": "execute_result"
    }
   ],
   "source": [
    "250*3*27 "
   ]
  },
  {
   "cell_type": "code",
   "execution_count": 12,
   "id": "09229c37-b53e-4213-94cc-9505167df7d4",
   "metadata": {},
   "outputs": [],
   "source": [
    "im = sorted(Path(\"../AdaAttN/results/AdaAttN/test_latest/images\").glob(\"*\"))"
   ]
  },
  {
   "cell_type": "code",
   "execution_count": 13,
   "id": "6619afed-904f-4bb7-996c-3b6fefd94818",
   "metadata": {},
   "outputs": [
    {
     "data": {
      "text/plain": [
       "60750"
      ]
     },
     "execution_count": 13,
     "metadata": {},
     "output_type": "execute_result"
    }
   ],
   "source": [
    "len(im)"
   ]
  },
  {
   "cell_type": "code",
   "execution_count": 1,
   "id": "2538e921-07ca-49f9-8077-37d87b43a28d",
   "metadata": {},
   "outputs": [
    {
     "data": {
      "text/plain": [
       "81"
      ]
     },
     "execution_count": 1,
     "metadata": {},
     "output_type": "execute_result"
    }
   ],
   "source": [
    "3*27 "
   ]
  }
 ],
 "metadata": {
  "kernelspec": {
   "display_name": "Python 3 (ipykernel)",
   "language": "python",
   "name": "python3"
  },
  "language_info": {
   "codemirror_mode": {
    "name": "ipython",
    "version": 3
   },
   "file_extension": ".py",
   "mimetype": "text/x-python",
   "name": "python",
   "nbconvert_exporter": "python",
   "pygments_lexer": "ipython3",
   "version": "3.11.8"
  }
 },
 "nbformat": 4,
 "nbformat_minor": 5
}
